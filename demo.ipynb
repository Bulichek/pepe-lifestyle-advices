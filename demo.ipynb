{
 "cells": [
  {
   "cell_type": "code",
   "execution_count": 1,
   "metadata": {
    "ExecuteTime": {
     "end_time": "2020-09-20T05:53:22.581385Z",
     "start_time": "2020-09-20T05:53:21.789503Z"
    }
   },
   "outputs": [],
   "source": [
    "import pandas as pd\n",
    "import random\n",
    "import itertools\n",
    "import numpy as np"
   ]
  },
  {
   "cell_type": "code",
   "execution_count": 2,
   "metadata": {
    "ExecuteTime": {
     "end_time": "2020-09-20T05:53:22.603134Z",
     "start_time": "2020-09-20T05:53:22.583718Z"
    }
   },
   "outputs": [
    {
     "data": {
      "text/plain": [
       "{0: '<UNK>',\n",
       " 1: 'Сувениры',\n",
       " 2: 'Фаст Фуд',\n",
       " 3: 'Супермаркеты',\n",
       " 4: 'Дом/Ремонт',\n",
       " 5: 'Сервисные услуги',\n",
       " 6: 'Красота',\n",
       " 7: 'Разные товары',\n",
       " 8: 'Транспорт',\n",
       " 9: 'Медицинские услуги',\n",
       " 10: 'Топливо',\n",
       " 11: 'Одежда/Обувь',\n",
       " 12: 'Наличные',\n",
       " 13: 'Связь/Телеком',\n",
       " 14: 'Частные услуги',\n",
       " 15: 'Финансовые услуги',\n",
       " 16: 'Рестораны',\n",
       " 17: 'Развлечения',\n",
       " 18: 'НКО',\n",
       " 19: 'Книги',\n",
       " 20: 'Кино',\n",
       " 21: 'Автоуслуги',\n",
       " 22: 'Музыка',\n",
       " 23: 'Отели',\n",
       " 24: 'Аптеки',\n",
       " 25: 'Цветы',\n",
       " 26: 'Ж/д билеты',\n",
       " 27: 'Авиабилеты',\n",
       " 28: 'Спорттовары',\n",
       " 29: 'Госсборы',\n",
       " 30: 'Аренда авто',\n",
       " 31: 'Животные',\n",
       " 32: 'Duty Free',\n",
       " 33: 'Турагентства',\n",
       " 34: 'Образование',\n",
       " 35: 'Искусство',\n",
       " 36: 'Фото/Видео'}"
      ]
     },
     "execution_count": 2,
     "metadata": {},
     "output_type": "execute_result"
    }
   ],
   "source": [
    "import itertools\n",
    "import json\n",
    "with open('category_mappings.json', 'r') as f:\n",
    "    category_map = json.load(f)\n",
    "    \n",
    "id2category = {x[1]: x[0] for x in category_map.items()}\n",
    "id2category"
   ]
  },
  {
   "cell_type": "code",
   "execution_count": 3,
   "metadata": {
    "ExecuteTime": {
     "end_time": "2020-09-20T05:53:23.190915Z",
     "start_time": "2020-09-20T05:53:23.184814Z"
    }
   },
   "outputs": [],
   "source": [
    "topics = {'Responsible consumption' : [11], \n",
    "          'Healthy food' : [2, 3], \n",
    "          'Waste reduction' : [10], \n",
    "          'Urbanism' : [10], \n",
    "          'Recycling' : [], \n",
    "          'Social Life' : []}\n",
    "\n",
    "cater = {'Одежда/Обувь': 11,\n",
    "        'Фаст Фуд': 2,\n",
    "        'Супермаркеты': 3,\n",
    "        'Топливо': 10}"
   ]
  },
  {
   "cell_type": "code",
   "execution_count": 4,
   "metadata": {
    "ExecuteTime": {
     "end_time": "2020-09-20T05:53:23.886336Z",
     "start_time": "2020-09-20T05:53:23.881868Z"
    }
   },
   "outputs": [],
   "source": [
    "advice = {}\n",
    "\n",
    "advice[11] = ['Привет! Если Вы планируете в ближайшее время совершить покупку одежды или обуви, предлагаем Вам сдать ненужные вещи в пункты приёма либо в детские дома.', \n",
    "             'У H&M есть программа, по которой вы получаете скидку в 15% на покупку новых вещей при сдаче пакета с неиспользуемой одеждой.',\n",
    "             'Старайтесь покупать вещи из натурального хлопка, так как при его производстве не выделяются вредные вещества и согласно сертификациями сотрудники обеспечены достойными условиями труда.',\n",
    "             'Не покупайте вещи, содержащие синтетические материалы (микроволокно и тп). Данные вещества долго разлагаются и загрязняют мировой океан.']\n",
    "\n",
    "advice[10] = ['Пересаживайтесь на общественный транспорт, это и дешевле, и часто занимает меньше времени.', \n",
    "             'Пересаживаясь на общественный транспорт, вы снижаете нагрузку на городскую инфраструктуру, уменьшаете выбросы в атмосферу и даёте людям возможность свободно дышать.',\n",
    "             'Виды экологичного топлива: газомоторное топливо, электричество, биотопливо.']\n",
    "\n",
    "advice[2] = ['Не покупайте много товаров с повышенным содержанием сахара.',\n",
    "             'Рассмотрите возможность замены любимого фаст фуд ресторана на ресторан/кафе с более здоровым меню.',\n",
    "             'Попкорн намного полезнее чипсов.']\n",
    "\n",
    "advice[3] = ['Не покупайте много товаров с повышенным содержанием сахара.',\n",
    "             'Добавляйте в свой рацион больше фруктов и овощей.',\n",
    "             'Не совершайте покупки без списка, чтобы не брать товары импульсивно.',\n",
    "             'Не ходите в магазин голодным.',\n",
    "             'Увеличьте потребление протеина. Одно из исследований показало, что увеличение его в рационе на 30% помогло людям есть на 450 ккал в день меньше.',\n",
    "             'Используйте более здоровые типы масел: оливковое, подсолнечное, кунжутное, кедровое.',\n",
    "             'Ходите в магазин со своим пакетом или покупайте биоразлагаемые.']"
   ]
  },
  {
   "cell_type": "code",
   "execution_count": 5,
   "metadata": {
    "ExecuteTime": {
     "end_time": "2020-09-20T05:53:25.144991Z",
     "start_time": "2020-09-20T05:53:24.305240Z"
    }
   },
   "outputs": [
    {
     "data": {
      "text/html": [
       "<div>\n",
       "<style scoped>\n",
       "    .dataframe tbody tr th:only-of-type {\n",
       "        vertical-align: middle;\n",
       "    }\n",
       "\n",
       "    .dataframe tbody tr th {\n",
       "        vertical-align: top;\n",
       "    }\n",
       "\n",
       "    .dataframe thead th {\n",
       "        text-align: right;\n",
       "    }\n",
       "</style>\n",
       "<table border=\"1\" class=\"dataframe\">\n",
       "  <thead>\n",
       "    <tr style=\"text-align: right;\">\n",
       "      <th></th>\n",
       "      <th>party_rk</th>\n",
       "      <th>recommendations</th>\n",
       "    </tr>\n",
       "  </thead>\n",
       "  <tbody>\n",
       "    <tr>\n",
       "      <th>0</th>\n",
       "      <td>20337</td>\n",
       "      <td>[0.0274, 0.7683, 0.9116, 0.4016, 0.1475, 0.307...</td>\n",
       "    </tr>\n",
       "    <tr>\n",
       "      <th>1</th>\n",
       "      <td>63404</td>\n",
       "      <td>[0.0102, 0.2903, 0.6858, 0.0906, 0.0156, 0.093...</td>\n",
       "    </tr>\n",
       "    <tr>\n",
       "      <th>2</th>\n",
       "      <td>24789</td>\n",
       "      <td>[0.0638, 0.7253, 0.9646, 0.9187, 0.4675, 0.168...</td>\n",
       "    </tr>\n",
       "    <tr>\n",
       "      <th>3</th>\n",
       "      <td>57970</td>\n",
       "      <td>[0.1499, 0.9864, 0.9887, 0.7584, 0.5017, 0.489...</td>\n",
       "    </tr>\n",
       "    <tr>\n",
       "      <th>4</th>\n",
       "      <td>12232</td>\n",
       "      <td>[0.1031, 0.9425, 0.9875, 0.7744, 0.4344, 0.537...</td>\n",
       "    </tr>\n",
       "  </tbody>\n",
       "</table>\n",
       "</div>"
      ],
      "text/plain": [
       "   party_rk                                    recommendations\n",
       "0     20337  [0.0274, 0.7683, 0.9116, 0.4016, 0.1475, 0.307...\n",
       "1     63404  [0.0102, 0.2903, 0.6858, 0.0906, 0.0156, 0.093...\n",
       "2     24789  [0.0638, 0.7253, 0.9646, 0.9187, 0.4675, 0.168...\n",
       "3     57970  [0.1499, 0.9864, 0.9887, 0.7584, 0.5017, 0.489...\n",
       "4     12232  [0.1031, 0.9425, 0.9875, 0.7744, 0.4344, 0.537..."
      ]
     },
     "execution_count": 5,
     "metadata": {},
     "output_type": "execute_result"
    }
   ],
   "source": [
    "file = 'category_scores.csv'\n",
    "\n",
    "predictions = pd.read_csv(file, sep=';')\n",
    "\n",
    "predictions.recommendations = predictions.recommendations.apply(lambda x: np.array(list(map(float, x.split(',')))))\n",
    "predictions.head()"
   ]
  },
  {
   "cell_type": "code",
   "execution_count": 6,
   "metadata": {
    "ExecuteTime": {
     "end_time": "2020-09-20T05:53:26.382391Z",
     "start_time": "2020-09-20T05:53:26.361354Z"
    }
   },
   "outputs": [],
   "source": [
    "def get_probability_by_rk(rk):\n",
    "    index = predictions[predictions['party_rk']==rk].index[0]\n",
    "    party_rk, recommendations = predictions.iloc[index]\n",
    "    return dict(zip(list(id2category.values())[1:], recommendations))\n",
    "\n",
    "def get_predictions_by_rk(rk):\n",
    "    index = predictions[predictions['party_rk']==rk].index[0]\n",
    "    party_rk, recommendations = predictions.iloc[index]\n",
    "    sorted_ids = (-recommendations).argsort() + 1\n",
    "    return sorted_ids\n",
    "\n",
    "def get_advice_by_idx(idx , interests):\n",
    "    l = [topics[interes] for interes in interests]\n",
    "    possible_idx = [val for sublist in l for val in sublist]\n",
    "    if idx in possible_idx:\n",
    "        return random.choice(advice[idx])\n",
    "    else:\n",
    "        return 'Советов нет'\n",
    "    \n",
    "def get_advice_user(user, int_1, int_2):\n",
    "    dict_of_prob = get_probability_by_rk(user)\n",
    "    print(dict_of_prob)\n",
    "    best_categories = get_predictions_by_rk(user)[0]\n",
    "    print('best category : {}\\n'.format(best_categories))\n",
    "    print(\"User's interests: {} and {}\\n\".format(list(topics.keys())[int_1], list(topics.keys())[int_2]) )\n",
    "    print('Our advice is:', get_advice_by_idx(get_predictions_by_rk(user)[0], [list(topics.keys())[int_1], list(topics.keys())[int_2]]))\n",
    "    return get_advice_by_idx(get_predictions_by_rk(user)[0], [list(topics.keys())[int_1], list(topics.keys())[int_2]])\n",
    "    \n",
    "    "
   ]
  },
  {
   "cell_type": "code",
   "execution_count": 7,
   "metadata": {
    "ExecuteTime": {
     "end_time": "2020-09-20T05:53:27.294880Z",
     "start_time": "2020-09-20T05:53:27.272351Z"
    },
    "scrolled": true
   },
   "outputs": [
    {
     "name": "stdout",
     "output_type": "stream",
     "text": [
      "{'Сувениры': 0.0274, 'Фаст Фуд': 0.7683, 'Супермаркеты': 0.9116, 'Дом/Ремонт': 0.4016, 'Сервисные услуги': 0.1475, 'Красота': 0.3074, 'Разные товары': 0.569, 'Транспорт': 0.3425, 'Медицинские услуги': 0.1008, 'Топливо': 0.9074, 'Одежда/Обувь': 0.5104, 'Наличные': 0.3545, 'Связь/Телеком': 0.2097, 'Частные услуги': 0.0451, 'Финансовые услуги': 0.8696, 'Рестораны': 0.363, 'Развлечения': 0.132, 'НКО': 0.1202, 'Книги': 0.1203, 'Кино': 0.1316, 'Автоуслуги': 0.2297, 'Музыка': 0.217, 'Отели': 0.0409, 'Аптеки': 0.5377, 'Цветы': 0.0568, 'Ж/д билеты': 0.0303, 'Авиабилеты': 0.0319, 'Спорттовары': 0.0708, 'Госсборы': 0.1389, 'Аренда авто': 0.0189, 'Животные': 0.2746, 'Duty Free': 0.0084, 'Турагентства': 0.0064, 'Образование': 0.0347, 'Искусство': 0.0029, 'Фото/Видео': 0.0194}\n",
      "best category : 3\n",
      "\n",
      "User's interests: Responsible consumption and Healthy food\n",
      "\n",
      "Our advice is: Ходите в магазин со своим пакетом или покупайте биоразлагаемые.\n"
     ]
    }
   ],
   "source": [
    "person1 = predictions['party_rk'][0]\n",
    "our_advice = get_advice_user(person1, 0, 1)"
   ]
  },
  {
   "cell_type": "code",
   "execution_count": 8,
   "metadata": {
    "ExecuteTime": {
     "end_time": "2020-09-20T05:53:28.405716Z",
     "start_time": "2020-09-20T05:53:28.389243Z"
    }
   },
   "outputs": [
    {
     "name": "stdout",
     "output_type": "stream",
     "text": [
      "{'Сувениры': 0.0274, 'Фаст Фуд': 0.9444, 'Супермаркеты': 0.9612, 'Дом/Ремонт': 0.7319, 'Сервисные услуги': 0.1134, 'Красота': 0.1168, 'Разные товары': 0.6609, 'Транспорт': 0.5207, 'Медицинские услуги': 0.0724, 'Топливо': 0.9646, 'Одежда/Обувь': 0.3478, 'Наличные': 0.5451, 'Связь/Телеком': 0.3087, 'Частные услуги': 0.0281, 'Финансовые услуги': 0.8843, 'Рестораны': 0.4602, 'Развлечения': 0.1506, 'НКО': 0.1136, 'Книги': 0.0611, 'Кино': 0.0982, 'Автоуслуги': 0.6348, 'Музыка': 0.0195, 'Отели': 0.0495, 'Аптеки': 0.5835, 'Цветы': 0.0941, 'Ж/д билеты': 0.0289, 'Авиабилеты': 0.0325, 'Спорттовары': 0.1068, 'Госсборы': 0.1813, 'Аренда авто': 0.0192, 'Животные': 0.063, 'Duty Free': 0.0037, 'Турагентства': 0.0058, 'Образование': 0.0107, 'Искусство': 0.0015, 'Фото/Видео': 0.0188}\n",
      "best category : 10\n",
      "\n",
      "User's interests: Recycling and Waste reduction\n",
      "\n",
      "Our advice is: Пересаживаясь на общественный транспорт, вы снижаете нагрузку на городскую инфраструктуру, уменьшаете выбросы в атмосферу и даёте людям возможность свободно дышать.\n"
     ]
    }
   ],
   "source": [
    "person2 = predictions['party_rk'][28]\n",
    "our_advice = get_advice_user(person2, 4, 2)"
   ]
  },
  {
   "cell_type": "code",
   "execution_count": 9,
   "metadata": {
    "ExecuteTime": {
     "end_time": "2020-09-20T05:53:29.979619Z",
     "start_time": "2020-09-20T05:53:29.964561Z"
    }
   },
   "outputs": [
    {
     "name": "stdout",
     "output_type": "stream",
     "text": [
      "{'Сувениры': 0.083, 'Фаст Фуд': 0.6679, 'Супермаркеты': 0.6655, 'Дом/Ремонт': 0.371, 'Сервисные услуги': 0.2115, 'Красота': 0.7323, 'Разные товары': 0.5426, 'Транспорт': 0.1563, 'Медицинские услуги': 0.4935, 'Топливо': 0.4192, 'Одежда/Обувь': 0.8743, 'Наличные': 0.5175, 'Связь/Телеком': 0.1737, 'Частные услуги': 0.1433, 'Финансовые услуги': 0.6803, 'Рестораны': 0.5177, 'Развлечения': 0.2405, 'НКО': 0.0864, 'Книги': 0.1229, 'Кино': 0.0544, 'Автоуслуги': 0.0611, 'Музыка': 0.0078, 'Отели': 0.0708, 'Аптеки': 0.571, 'Цветы': 0.0918, 'Ж/д билеты': 0.0254, 'Авиабилеты': 0.0764, 'Спорттовары': 0.1091, 'Госсборы': 0.0675, 'Аренда авто': 0.0123, 'Животные': 0.0462, 'Duty Free': 0.0265, 'Турагентства': 0.0147, 'Образование': 0.2053, 'Искусство': 0.0033, 'Фото/Видео': 0.0215}\n",
      "best category : 11\n",
      "\n",
      "User's interests: Responsible consumption and Recycling\n",
      "\n",
      "Our advice is: Привет! Если Вы планируете в ближайшее время совершить покупку одежды или обуви, предлагаем Вам сдать ненужные вещи в пункты приёма либо в детские дома.\n"
     ]
    }
   ],
   "source": [
    "person3 = predictions['party_rk'][3581]\n",
    "our_advice = get_advice_user(person3, 0, 4)"
   ]
  }
 ],
 "metadata": {
  "kernelspec": {
   "display_name": "Python 3",
   "language": "python",
   "name": "python3"
  },
  "language_info": {
   "codemirror_mode": {
    "name": "ipython",
    "version": 3
   },
   "file_extension": ".py",
   "mimetype": "text/x-python",
   "name": "python",
   "nbconvert_exporter": "python",
   "pygments_lexer": "ipython3",
   "version": "3.7.7"
  }
 },
 "nbformat": 4,
 "nbformat_minor": 4
}
